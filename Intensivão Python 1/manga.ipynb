{
 "cells": [
  {
   "cell_type": "code",
   "execution_count": 1,
   "metadata": {},
   "outputs": [
    {
     "ename": "FailSafeException",
     "evalue": "PyAutoGUI fail-safe triggered from mouse moving to a corner of the screen. To disable this fail-safe, set pyautogui.FAILSAFE to False. DISABLING FAIL-SAFE IS NOT RECOMMENDED.",
     "output_type": "error",
     "traceback": [
      "\u001b[1;31m---------------------------------------------------------------------------\u001b[0m",
      "\u001b[1;31mFailSafeException\u001b[0m                         Traceback (most recent call last)",
      "\u001b[1;32mc:\\Users\\Admin\\desktop\\python-learn\\Intensivão Python 1\\manga.ipynb Cell 1'\u001b[0m in \u001b[0;36m<cell line: 10>\u001b[1;34m()\u001b[0m\n\u001b[0;32m     <a href='vscode-notebook-cell:/c%3A/Users/Admin/desktop/python-learn/Intensiv%C3%A3o%20Python%201/manga.ipynb#ch0000000?line=11'>12</a>\u001b[0m pag\u001b[39m.\u001b[39mclick(x\u001b[39m=\u001b[39m\u001b[39m954\u001b[39m, y\u001b[39m=\u001b[39m\u001b[39m535\u001b[39m)\n\u001b[0;32m     <a href='vscode-notebook-cell:/c%3A/Users/Admin/desktop/python-learn/Intensiv%C3%A3o%20Python%201/manga.ipynb#ch0000000?line=12'>13</a>\u001b[0m sleep(\u001b[39m0.5\u001b[39m)\n\u001b[1;32m---> <a href='vscode-notebook-cell:/c%3A/Users/Admin/desktop/python-learn/Intensiv%C3%A3o%20Python%201/manga.ipynb#ch0000000?line=13'>14</a>\u001b[0m pag\u001b[39m.\u001b[39;49mwrite(\u001b[39mf\u001b[39;49m\u001b[39m\"\u001b[39;49m\u001b[39m{\u001b[39;49;00mindex\u001b[39m}\u001b[39;49;00m\u001b[39m\"\u001b[39;49m)\n\u001b[0;32m     <a href='vscode-notebook-cell:/c%3A/Users/Admin/desktop/python-learn/Intensiv%C3%A3o%20Python%201/manga.ipynb#ch0000000?line=14'>15</a>\u001b[0m pag\u001b[39m.\u001b[39mpress(\u001b[39m\"\u001b[39m\u001b[39menter\u001b[39m\u001b[39m\"\u001b[39m)\n\u001b[0;32m     <a href='vscode-notebook-cell:/c%3A/Users/Admin/desktop/python-learn/Intensiv%C3%A3o%20Python%201/manga.ipynb#ch0000000?line=15'>16</a>\u001b[0m sleep(\u001b[39m0.5\u001b[39m)\n",
      "File \u001b[1;32m~\\AppData\\Roaming\\Python\\Python310\\site-packages\\pyautogui\\__init__.py:597\u001b[0m, in \u001b[0;36m_genericPyAutoGUIChecks.<locals>.wrapper\u001b[1;34m(*args, **kwargs)\u001b[0m\n\u001b[0;32m    <a href='file:///c%3A/Users/Admin/AppData/Roaming/Python/Python310/site-packages/pyautogui/__init__.py?line=594'>595</a>\u001b[0m \u001b[39m@functools\u001b[39m\u001b[39m.\u001b[39mwraps(wrappedFunction)\n\u001b[0;32m    <a href='file:///c%3A/Users/Admin/AppData/Roaming/Python/Python310/site-packages/pyautogui/__init__.py?line=595'>596</a>\u001b[0m \u001b[39mdef\u001b[39;00m \u001b[39mwrapper\u001b[39m(\u001b[39m*\u001b[39margs, \u001b[39m*\u001b[39m\u001b[39m*\u001b[39mkwargs):\n\u001b[1;32m--> <a href='file:///c%3A/Users/Admin/AppData/Roaming/Python/Python310/site-packages/pyautogui/__init__.py?line=596'>597</a>\u001b[0m     failSafeCheck()\n\u001b[0;32m    <a href='file:///c%3A/Users/Admin/AppData/Roaming/Python/Python310/site-packages/pyautogui/__init__.py?line=597'>598</a>\u001b[0m     returnVal \u001b[39m=\u001b[39m wrappedFunction(\u001b[39m*\u001b[39margs, \u001b[39m*\u001b[39m\u001b[39m*\u001b[39mkwargs)\n\u001b[0;32m    <a href='file:///c%3A/Users/Admin/AppData/Roaming/Python/Python310/site-packages/pyautogui/__init__.py?line=598'>599</a>\u001b[0m     _handlePause(kwargs\u001b[39m.\u001b[39mget(\u001b[39m\"\u001b[39m\u001b[39m_pause\u001b[39m\u001b[39m\"\u001b[39m, \u001b[39mTrue\u001b[39;00m))\n",
      "File \u001b[1;32m~\\AppData\\Roaming\\Python\\Python310\\site-packages\\pyautogui\\__init__.py:1722\u001b[0m, in \u001b[0;36mfailSafeCheck\u001b[1;34m()\u001b[0m\n\u001b[0;32m   <a href='file:///c%3A/Users/Admin/AppData/Roaming/Python/Python310/site-packages/pyautogui/__init__.py?line=1719'>1720</a>\u001b[0m \u001b[39mdef\u001b[39;00m \u001b[39mfailSafeCheck\u001b[39m():\n\u001b[0;32m   <a href='file:///c%3A/Users/Admin/AppData/Roaming/Python/Python310/site-packages/pyautogui/__init__.py?line=1720'>1721</a>\u001b[0m     \u001b[39mif\u001b[39;00m FAILSAFE \u001b[39mand\u001b[39;00m \u001b[39mtuple\u001b[39m(position()) \u001b[39min\u001b[39;00m FAILSAFE_POINTS:\n\u001b[1;32m-> <a href='file:///c%3A/Users/Admin/AppData/Roaming/Python/Python310/site-packages/pyautogui/__init__.py?line=1721'>1722</a>\u001b[0m         \u001b[39mraise\u001b[39;00m FailSafeException(\n\u001b[0;32m   <a href='file:///c%3A/Users/Admin/AppData/Roaming/Python/Python310/site-packages/pyautogui/__init__.py?line=1722'>1723</a>\u001b[0m             \u001b[39m\"\u001b[39m\u001b[39mPyAutoGUI fail-safe triggered from mouse moving to a corner of the screen. To disable this fail-safe, set pyautogui.FAILSAFE to False. DISABLING FAIL-SAFE IS NOT RECOMMENDED.\u001b[39m\u001b[39m\"\u001b[39m\n\u001b[0;32m   <a href='file:///c%3A/Users/Admin/AppData/Roaming/Python/Python310/site-packages/pyautogui/__init__.py?line=1723'>1724</a>\u001b[0m         )\n",
      "\u001b[1;31mFailSafeException\u001b[0m: PyAutoGUI fail-safe triggered from mouse moving to a corner of the screen. To disable this fail-safe, set pyautogui.FAILSAFE to False. DISABLING FAIL-SAFE IS NOT RECOMMENDED."
     ]
    }
   ],
   "source": [
    "from time import sleep as sleep \n",
    "import pyautogui as pag\n",
    "\n",
    "width, height = pag.size()\n",
    "\n",
    "paginas = 20\n",
    "pag.PAUSE = 0.1\n",
    "\n",
    "sleep(3)\n",
    "for index in range(0, paginas):\n",
    "    pag.click(x=910, y=500, button=\"right\")\n",
    "    pag.click(x=954, y=535)\n",
    "    sleep(0.5)\n",
    "    pag.write(f\"{index}\")\n",
    "    pag.press(\"enter\")\n",
    "    sleep(0.5)\n",
    "    pag.click(x=1659, y=521)\n",
    "\n",
    "# for index in range(0, 2):\n",
    "#     pag.hotkey(\"ctrl\", \"w\")\n",
    "\n"
   ]
  },
  {
   "cell_type": "markdown",
   "metadata": {},
   "source": [
    "Isso aqui é pra abas"
   ]
  },
  {
   "cell_type": "code",
   "execution_count": 11,
   "metadata": {},
   "outputs": [],
   "source": [
    "from time import sleep as sleep \n",
    "import pyautogui as pag\n",
    "\n",
    "width, height = pag.size()\n",
    "\n",
    "paginas = 8\n",
    "pag.PAUSE = 0.1\n",
    "\n",
    "sleep(3)\n",
    "for index in range(0, paginas):\n",
    "    pag.hotkey(\"ctrl\", \"s\")\n",
    "    pag.press(\"enter\")\n",
    "    sleep(0.5)\n",
    "    pag.press(\"enter\")\n",
    "    sleep(0.5)\n",
    "    pag.hotkey(\"ctrl\", \"w\")\n",
    "\n",
    "# for index in range(0, 2):\n",
    "#     pag.hotkey(\"ctrl\", \"w\")"
   ]
  },
  {
   "cell_type": "code",
   "execution_count": 74,
   "metadata": {},
   "outputs": [
    {
     "data": {
      "text/plain": [
       "Point(x=425, y=401)"
      ]
     },
     "execution_count": 74,
     "metadata": {},
     "output_type": "execute_result"
    }
   ],
   "source": [
    "sleep(2)\n",
    "pag.position()"
   ]
  }
 ],
 "metadata": {
  "interpreter": {
   "hash": "b89b5cfaba6639976dc87ff2fec6d58faec662063367e2c229c520fe71072417"
  },
  "kernelspec": {
   "display_name": "Python 3.10.4 64-bit",
   "language": "python",
   "name": "python3"
  },
  "language_info": {
   "codemirror_mode": {
    "name": "ipython",
    "version": 3
   },
   "file_extension": ".py",
   "mimetype": "text/x-python",
   "name": "python",
   "nbconvert_exporter": "python",
   "pygments_lexer": "ipython3",
   "version": "3.10.4"
  },
  "orig_nbformat": 4
 },
 "nbformat": 4,
 "nbformat_minor": 2
}
