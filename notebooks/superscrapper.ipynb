{
 "cells": [
  {
   "cell_type": "code",
   "execution_count": null,
   "metadata": {},
   "outputs": [],
   "source": [
    "from time import sleep as sleep \n",
    "import pyautogui as pag\n",
    "import pyperclip as clip\n",
    "import json\n",
    "import os\n",
    "import shutil\n",
    "import requests"
   ]
  },
  {
   "cell_type": "code",
   "execution_count": null,
   "metadata": {},
   "outputs": [],
   "source": [
    "# ===================================== CONFIGS ==========================================\n",
    "\n",
    "# If there is a variable path, put a \"???\" to be replaced by the value in \"VARIABLE_PATH\"\n",
    "BASE_URL = \"\"\n",
    "\n",
    "# \n",
    "VARIABLE_PATH = [\n",
    "]\n",
    "\n",
    "# ========================================================================================\n"
   ]
  },
  {
   "cell_type": "code",
   "execution_count": null,
   "metadata": {},
   "outputs": [],
   "source": [
    "def script(path):\n",
    "    script = \"\"\n",
    "    with open(path, \"r\", encoding=\"utf-8\") as f:\n",
    "        script = f.read()\n",
    "\n",
    "    return script\n",
    "\n",
    "def assert_path(path) -> bool:\n",
    "    is_path = os.path.isdir(path)\n",
    "    if not is_path:\n",
    "        os.mkdir(path)\n",
    "    \n",
    "    return is_path\n",
    "\n",
    "def what_in_the_actual_fuck(path, data):\n",
    "    if assert_path(path):\n",
    "        return\n",
    "\n",
    "    for image_url in data:\n",
    "        try:\n",
    "            print(image_url)\n",
    "            r = requests.get(image_url, stream = True)\n",
    "            r.raw.decode_content = True\n",
    "\n",
    "            name = image_url.split(\"/\")[-1]\n",
    "\n",
    "            with open(f\"{path}\\\\{name}\",'wb') as f:\n",
    "                shutil.copyfileobj(r.raw, f)\n",
    "        except TimeoutError:\n",
    "            what_in_the_actual_fuck(path, data)\n",
    "\n",
    "        "
   ]
  },
  {
   "cell_type": "code",
   "execution_count": null,
   "metadata": {},
   "outputs": [],
   "source": [
    "width, height = pag.size()\n",
    "\n",
    "paginas = 20\n",
    "pag.PAUSE = 0.3\n",
    "\n",
    "# Gives 3 seconds to focus on a browser window (use chrome, to be sure)\n",
    "sleep(3)\n",
    "\n",
    "for urls in VARIABLE_PATH:\n",
    "    # Focus on the search bar and puts the URL\n",
    "    pag.hotkey('ctrl', 'l', interval=0.3)\n",
    "    clip.copy(BASE_URL.replace(\"???\", str(urls)))\n",
    "    pag.hotkey(\"ctrl\", \"v\", interval=0.3)\n",
    "    pag.press(\"enter\")\n",
    "\n",
    "    # Awaits for the site to load\n",
    "    sleep(5)\n",
    "\n",
    "    # Opens terminal\n",
    "    pag.hotkey('ctrl', 'shift', 'j')\n",
    "\n",
    "    # Focus on console\n",
    "    pag.hotkey(\"ctrl\", \"'\", interval=0.5)\n",
    "\n",
    "    # Puts the script\n",
    "    clip.copy(script(\"../clover.js\"))\n",
    "    pag.hotkey(\"ctrl\", \"v\", interval=0.5)\n",
    "    pag.press(\"enter\")\n",
    "\n",
    "    # Focus on the window, for the clipboard script to work\n",
    "    pag.hotkey(\"alt\", \"tab\", interval=0.5)\n",
    "\n",
    "    sleep(4)\n",
    "    # Paste the returning output\n",
    "    data = clip.paste()\n",
    "    data = data.split(\",\")\n",
    "\n",
    "    # Do whatever with the scraped data\n",
    "    what_in_the_actual_fuck(f\"../kill_me_when_seen/{urls}\", data)\n",
    "\n",
    "    # Sleep, because the program needs a rest too...\n",
    "    sleep(1)\n",
    "\n",
    "# Rick rolls, for some reason\n",
    "pag.hotkey('ctrl', 'l', interval=0.3)\n",
    "clip.copy(\"https://www.youtube.com/watch?v=dQw4w9WgXcQ\")\n",
    "pag.hotkey(\"ctrl\", \"v\", interval=0.3)\n",
    "pag.press(\"enter\")\n"
   ]
  },
  {
   "cell_type": "code",
   "execution_count": null,
   "metadata": {},
   "outputs": [],
   "source": []
  }
 ],
 "metadata": {
  "kernelspec": {
   "display_name": "Python 3",
   "language": "python",
   "name": "python3"
  },
  "language_info": {
   "codemirror_mode": {
    "name": "ipython",
    "version": 3
   },
   "file_extension": ".py",
   "mimetype": "text/x-python",
   "name": "python",
   "nbconvert_exporter": "python",
   "pygments_lexer": "ipython3",
   "version": "3.11.0"
  },
  "orig_nbformat": 4,
  "vscode": {
   "interpreter": {
    "hash": "72b2382ece9768098284d92bbc69d35954e75b60d1e25897d1389c232f4796f0"
   }
  }
 },
 "nbformat": 4,
 "nbformat_minor": 2
}
