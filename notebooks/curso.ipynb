{
 "cells": [
  {
   "attachments": {},
   "cell_type": "markdown",
   "metadata": {},
   "source": [
    "Uma pequena pausa para uma oração antes de nossa codificação"
   ]
  },
  {
   "cell_type": "code",
   "execution_count": 5,
   "metadata": {},
   "outputs": [
    {
     "name": "stdout",
     "output_type": "stream",
     "text": [
      "The Zen of Python, by Tim Peters\n",
      "\n",
      "Beautiful is better than ugly.\n",
      "Explicit is better than implicit.\n",
      "Simple is better than complex.\n",
      "Complex is better than complicated.\n",
      "Flat is better than nested.\n",
      "Sparse is better than dense.\n",
      "Readability counts.\n",
      "Special cases aren't special enough to break the rules.\n",
      "Although practicality beats purity.\n",
      "Errors should never pass silently.\n",
      "Unless explicitly silenced.\n",
      "In the face of ambiguity, refuse the temptation to guess.\n",
      "There should be one-- and preferably only one --obvious way to do it.\n",
      "Although that way may not be obvious at first unless you're Dutch.\n",
      "Now is better than never.\n",
      "Although never is often better than *right* now.\n",
      "If the implementation is hard to explain, it's a bad idea.\n",
      "If the implementation is easy to explain, it may be a good idea.\n",
      "Namespaces are one honking great idea -- let's do more of those!\n"
     ]
    }
   ],
   "source": [
    "import this"
   ]
  },
  {
   "attachments": {},
   "cell_type": "markdown",
   "metadata": {},
   "source": [
    "## Parte 1: O Beabá do Python"
   ]
  },
  {
   "attachments": {},
   "cell_type": "markdown",
   "metadata": {},
   "source": [
    "Para o nosso primeiro código, vamos para o clássico Hello World. Que em Python é literalmente uma linha. Não precisa encapsular em uma função como em C ou criar uma classe inteira só pra escrever no console como em Java, só uma função no escopo global e vamo que vamo."
   ]
  },
  {
   "cell_type": "code",
   "execution_count": 6,
   "metadata": {},
   "outputs": [
    {
     "name": "stdout",
     "output_type": "stream",
     "text": [
      "Hello, World!\n"
     ]
    }
   ],
   "source": [
    "print(\"Hello, World!\")"
   ]
  },
  {
   "attachments": {},
   "cell_type": "markdown",
   "metadata": {},
   "source": [
    "\n",
    "Pra gente instanciar uma variável em C e em Java, a gente faz algo mais ou menos assim né? \n",
    "\n",
    "```\n",
    "int numero = 42;\n",
    "String string = \"Hello, World!\"\n",
    "int [] lista = { 1, 2, 3, 4 } \n",
    "```\n",
    "\n",
    "Em python é mais fácil, uma vez que é uma linguagem de **Tipagem Dinâmica**, isso é, você não precisa dizer explicitamente qual \n",
    "o tipo da variável, porque o interpretador vai fazer isso por você."
   ]
  },
  {
   "cell_type": "code",
   "execution_count": 7,
   "metadata": {},
   "outputs": [
    {
     "name": "stdout",
     "output_type": "stream",
     "text": [
      "42  -  Hello, World!  -  [1, 2, 3, 4]\n"
     ]
    }
   ],
   "source": [
    "numero = 42\n",
    "string = \"Hello, World!\"\n",
    "lista = [1, 2, 3, 4]\n",
    "\n",
    "print(numero, \" - \", string, \" - \", lista)"
   ]
  },
  {
   "attachments": {},
   "cell_type": "markdown",
   "metadata": {},
   "source": [
    "Mas se quiser ter *absoluta* certeza do tipo da váriavel, você pode passá-la para um função de conversão:"
   ]
  },
  {
   "cell_type": "code",
   "execution_count": 8,
   "metadata": {},
   "outputs": [
    {
     "name": "stdout",
     "output_type": "stream",
     "text": [
      "42  -  42\n"
     ]
    },
    {
     "data": {
      "text/plain": [
       "()"
      ]
     },
     "execution_count": 8,
     "metadata": {},
     "output_type": "execute_result"
    }
   ],
   "source": [
    "nao_numero = int(\"42\")\n",
    "numero = int(42)  \n",
    "\n",
    "# Vão ter o mesmo valor\n",
    "print(nao_numero, \" - \", numero) \n",
    "\n",
    "# Você pode fazer isso com vários tipos de dados\n",
    "str() # Para Strings\n",
    "float() # Para floats (números reais)\n",
    "list() # Para listas\n",
    "tuple() # Para tuplas"
   ]
  },
  {
   "attachments": {},
   "cell_type": "markdown",
   "metadata": {},
   "source": [
    "Ou ainda pode também checar o tipo da váriavel (mas geralmente uma boa estrutura de código e nome de váriavel já diz qual o tipo dela)"
   ]
  },
  {
   "cell_type": "code",
   "execution_count": 9,
   "metadata": {},
   "outputs": [
    {
     "data": {
      "text/plain": [
       "(str, int, float)"
      ]
     },
     "execution_count": 9,
     "metadata": {},
     "output_type": "execute_result"
    }
   ],
   "source": [
    "# Você consegue instanciar várias variáveis em uma linha!\n",
    "string, numero, numero_real = \"Python é Maneiro!\", 42, 35.98\n",
    "\n",
    "type(string), type(numero), type(numero_real)"
   ]
  },
  {
   "attachments": {},
   "cell_type": "markdown",
   "metadata": {},
   "source": [
    "Como toda boa linguagem de programação, temos os operadores aritméticos comuns como: adição, substração, multiplicação, divisão, etc."
   ]
  },
  {
   "cell_type": "code",
   "execution_count": 10,
   "metadata": {},
   "outputs": [
    {
     "name": "stdout",
     "output_type": "stream",
     "text": [
      "3 + 2 =  5\n",
      "3 - 2 =  1\n",
      "3 * 2 =  6\n",
      "3 / 2 =  1.5\n",
      "3 // 2 =  1\n",
      "3 ** 2 =  9\n",
      "3 % 2 =  1\n"
     ]
    }
   ],
   "source": [
    "a, b = 3, 2\n",
    "\n",
    "# Não se preocupe com o \"f\" na frente da string, vamos falar disso mais para frente\n",
    "print(f\"{a} + {b} = \", a + b )  # Adição\n",
    "print(f\"{a} - {b} = \", a - b)   # Subtração\n",
    "print(f\"{a} * {b} = \", a * b)   # Multiplicação\n",
    "print(f\"{a} / {b} = \", a / b)   # Divisão\n",
    "print(f\"{a} // {b} = \", a // b) # Divisão com arredondamento para baixo (pode ser usado também com a função math.floor(<equação>))\n",
    "print(f\"{a} ** {b} = \", a ** b) # Exponenciação (pode ser usado também com a função math.pow())\n",
    "print(f\"{a} % {b} = \", a % b)   # Módulo"
   ]
  },
  {
   "cell_type": "code",
   "execution_count": 30,
   "metadata": {},
   "outputs": [
    {
     "data": {
      "text/plain": [
       "0.0"
      ]
     },
     "execution_count": 30,
     "metadata": {},
     "output_type": "execute_result"
    }
   ],
   "source": [
    "a, b = 3, 2\n",
    "\n",
    "# Igual a => a = a + b\n",
    "a += b \n",
    "a -= b\n",
    "a *= b\n",
    "a /= b\n",
    "a //= b\n",
    "a **= b\n",
    "a %= b"
   ]
  },
  {
   "attachments": {},
   "cell_type": "markdown",
   "metadata": {},
   "source": [
    "Assim como a nós podemos usar esses operadores em números, alguns deles nós podemos usar em textos"
   ]
  },
  {
   "cell_type": "code",
   "execution_count": 11,
   "metadata": {},
   "outputs": [
    {
     "name": "stdout",
     "output_type": "stream",
     "text": [
      "Python é Maneiro!\n",
      "Python Python Python \n",
      "Python  é maneiro\n"
     ]
    }
   ],
   "source": [
    "str1, str2, str3 = \"Python \", \"é \", \"Maneiro!\"\n",
    "\n",
    "print(str1 + str2 + str3)    # Concatenação de Strings (Só funciona se todos os operandos forem string!)\n",
    "print(str1 * 3)              # Repetição de string (Um dos operandos tem de ser um número inteiro!)\n",
    "print(\"%s é maneiro\" % str1) # Formatação de String (vamos ver outros exemplos mais para frente)"
   ]
  },
  {
   "attachments": {},
   "cell_type": "markdown",
   "metadata": {},
   "source": [
    "Podemos usar em listas também!"
   ]
  },
  {
   "cell_type": "code",
   "execution_count": 12,
   "metadata": {},
   "outputs": [
    {
     "name": "stdout",
     "output_type": "stream",
     "text": [
      "[1, 2, 3, 4, 5, 6]\n",
      "[1, 2, 3, 1, 2, 3, 1, 2, 3]\n"
     ]
    }
   ],
   "source": [
    "lista1, lista2 = [1, 2, 3], [4, 5, 6]\n",
    "\n",
    "print(lista1 + lista2) # Concatenação de Listas (Só funciona se todos os operandos forem uma lista!)\n",
    "print(lista1 * 3)      # Repetição de Lista (Um dos operandos tem de ser um número inteiro!)"
   ]
  },
  {
   "cell_type": "code",
   "execution_count": 23,
   "metadata": {},
   "outputs": [
    {
     "name": "stdout",
     "output_type": "stream",
     "text": [
      "Breno gosta de Banana\n",
      "Enzo gosta de Laranja\n",
      "Igor gosta de Maçã\n",
      "Júlia gosta de Romã\n",
      "Natália gosta de Pera\n",
      "Mayara gosta de Tomate\n"
     ]
    }
   ],
   "source": [
    "lista1 = [\"Breno\", \"Enzo\", \"Igor\", \"Júlia\", \"Natália\", \"Mayara\"]\n",
    "lista2 = [\"Manga\", \"Banana\", \"Laranja\", \"Maçã\", \"Romã\", \"Pera\", \"Tomate\", \"Abacaxi\"]\n",
    "\n",
    "for nome, fruta in zip(lista1, lista2):\n",
    "    print(f\"{nome} gosta de {fruta}\")"
   ]
  },
  {
   "cell_type": "code",
   "execution_count": 24,
   "metadata": {},
   "outputs": [
    {
     "name": "stdout",
     "output_type": "stream",
     "text": [
      "Breno está no índice 0\n",
      "Enzo está no índice 1\n",
      "Igor está no índice 2\n",
      "Júlia está no índice 3\n",
      "Natália está no índice 4\n",
      "Mayara está no índice 5\n"
     ]
    }
   ],
   "source": [
    "for indice, nome in enumerate(lista1):\n",
    "    print(f\"{nome} está no índice {indice}\")"
   ]
  },
  {
   "cell_type": "code",
   "execution_count": 32,
   "metadata": {},
   "outputs": [
    {
     "name": "stdout",
     "output_type": "stream",
     "text": [
      "Banana\n",
      "Laranja\n",
      "Maçã\n",
      "Romã\n",
      "Pera\n",
      "Tomate\n",
      "Manga\n",
      "Abacaxi\n",
      "\n",
      "\tPulando de dois em dois: \n",
      "\n",
      "Banana\n",
      "Maçã\n",
      "Pera\n",
      "Manga\n",
      "\n",
      "\tfor simplificado: \n",
      "\n",
      "Banana\n",
      "Laranja\n",
      "Maçã\n",
      "Romã\n",
      "Pera\n",
      "Tomate\n",
      "Manga\n",
      "Abacaxi\n"
     ]
    }
   ],
   "source": [
    "\n",
    "# Igual a um => for (int indice = 0; indice < 8; indice++) \n",
    "for indice in range(0, 8, 1):\n",
    "    print(lista2[indice])\n",
    "\n",
    "print(\"\\n\\tPulando de dois em dois: \\n\")\n",
    "\n",
    "# Igual a um => for(int indice = 0; indice < lista2.length; indice += 2)\n",
    "for indice in range(0, len(lista2), 2):\n",
    "    print(lista2[indice])\n",
    "\n",
    "\n",
    "print(\"\\n\\tfor simplificado: \\n\")\n",
    "\n",
    "# O primeiro for pode ser simplificado assim:\n",
    "for indice in range(len(lista2)):\n",
    "    print(lista2[indice])\n"
   ]
  },
  {
   "cell_type": "code",
   "execution_count": null,
   "metadata": {},
   "outputs": [],
   "source": []
  }
 ],
 "metadata": {
  "kernelspec": {
   "display_name": "Python 3",
   "language": "python",
   "name": "python3"
  },
  "language_info": {
   "codemirror_mode": {
    "name": "ipython",
    "version": 3
   },
   "file_extension": ".py",
   "mimetype": "text/x-python",
   "name": "python",
   "nbconvert_exporter": "python",
   "pygments_lexer": "ipython3",
   "version": "3.10.10"
  },
  "orig_nbformat": 4
 },
 "nbformat": 4,
 "nbformat_minor": 2
}
