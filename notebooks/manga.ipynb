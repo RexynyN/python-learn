{
 "cells": [
  {
   "cell_type": "code",
   "execution_count": null,
   "metadata": {},
   "outputs": [],
   "source": [
    "from time import sleep as sleep \n",
    "import pyautogui as pag\n",
    "import pyperclip as clip\n",
    "\n",
    "\n",
    "width, height = pag.size()\n",
    "\n",
    "paginas = 20\n",
    "pag.PAUSE = 0.3\n",
    "\n",
    "sleep(3)\n",
    "# for index in range(0, paginas):\n",
    "#     pag.click(x=910, y=500, button=\"right\")\n",
    "#     pag.click(x=954, y=535)\n",
    "#     sleep(0.5)\n",
    "#     pag.write(f\"{index}\")\n",
    "#     pag.press(\"enter\")\n",
    "#     sleep(0.5)\n",
    "#     pag.click(x=1659, y=521)\n"
   ]
  },
  {
   "cell_type": "markdown",
   "metadata": {},
   "source": [
    "Isso aqui é pra abas"
   ]
  },
  {
   "cell_type": "code",
   "execution_count": null,
   "metadata": {},
   "outputs": [],
   "source": [
    "from time import sleep as sleep \n",
    "import pyautogui as pag\n",
    "\n",
    "width, height = pag.size()\n",
    "\n",
    "paginas = 8\n",
    "pag.PAUSE = 0.3\n",
    "\n",
    "sleep(3)\n",
    "for index in range(0, paginas):\n",
    "    pag.hotkey(\"ctrl\", \"s\")\n",
    "    pag.press(\"enter\")\n",
    "    sleep(0.5)\n",
    "    pag.press(\"enter\")\n",
    "    sleep(0.5)\n",
    "    pag.hotkey(\"ctrl\", \"w\")\n",
    "\n",
    "# for index in range(0, 2):\n",
    "#     pag.hotkey(\"ctrl\", \"w\")"
   ]
  },
  {
   "cell_type": "code",
   "execution_count": null,
   "metadata": {},
   "outputs": [],
   "source": [
    "sleep(2)\n",
    "pag.position()"
   ]
  }
 ],
 "metadata": {
  "kernelspec": {
   "display_name": "Python 3",
   "language": "python",
   "name": "python3"
  },
  "language_info": {
   "codemirror_mode": {
    "name": "ipython",
    "version": 3
   },
   "file_extension": ".py",
   "mimetype": "text/x-python",
   "name": "python",
   "nbconvert_exporter": "python",
   "pygments_lexer": "ipython3",
   "version": "3.11.0 (main, Oct 24 2022, 18:26:48) [MSC v.1933 64 bit (AMD64)]"
  },
  "orig_nbformat": 4,
  "vscode": {
   "interpreter": {
    "hash": "72b2382ece9768098284d92bbc69d35954e75b60d1e25897d1389c232f4796f0"
   }
  }
 },
 "nbformat": 4,
 "nbformat_minor": 2
}
